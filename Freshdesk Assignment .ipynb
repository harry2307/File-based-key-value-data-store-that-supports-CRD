{
 "cells": [
  {
   "cell_type": "markdown",
   "metadata": {},
   "source": [
    "# Importing the necessary libraries"
   ]
  },
  {
   "cell_type": "code",
   "execution_count": 1,
   "metadata": {},
   "outputs": [],
   "source": [
    "import json\n",
    "import time\n",
    "import threading\n",
    "import uuid\n",
    "import os\n",
    "import sys"
   ]
  },
  {
   "cell_type": "code",
   "execution_count": 2,
   "metadata": {},
   "outputs": [],
   "source": [
    "\n",
    "# Creates a unique file name using timestamp to filename\n",
    "\n",
    "def get_file_time():\n",
    "    import uuid\n",
    "    uniq_append_string = uuid.uuid4().hex\n",
    "    return \"LOCAL_STORAGE_{}\".format(uniq_append_string)\n",
    "\n",
    "# Creating a unique file name with datastore location\n",
    "\n",
    "def get_inst(file_name=None):\n",
    "    if file_name is None:\n",
    "        file_name = get_file_time()\n",
    "    try:\n",
    "        os.mkdir('C:/tmp')\n",
    "    except:\n",
    "        full_file_name = f\"{'C:/tmp'}/{file_name+'.txt'}\"\n",
    "    return full_file_name\n",
    "\n",
    "\n",
    "# Actual DataStore class(DS)\n",
    "\n",
    "class DS:\n",
    "\n",
    "    # 'c' is the dictionary in which we store data\n",
    "    \n",
    "    def __init__(self, file_desc=None):\n",
    "        self.__lock = threading.Lock()\n",
    "        if(file_desc != None and os.path.isfile(file_desc)):\n",
    "            self.file_desc = file_desc\n",
    "        else:\n",
    "            self.file_desc = get_inst()\n",
    "        self.f = open(self.file_desc, 'w+')\n",
    "        #\n",
    "        self.c = dict(self.f.read())\n",
    "    # for create operation\n",
    "    # use syntax \"create(key_name,value,timeout_value)\" timeout is optional you can continue by passing two arguments without timeout\n",
    "\n",
    "    def create(self, key, value, timeout=0):\n",
    "        self.__lock.acquire()\n",
    "        try:\n",
    "            self.key = key\n",
    "            self.value = value\n",
    "            self.timeout = timeout\n",
    "            if self.key in self.c:\n",
    "                print(\"error: this key already exists\")  # error message1 for already existing keys\n",
    "            else:\n",
    "                if(self.key.isalpha()):\n",
    "                    \n",
    "                    # constraints for file size less than 1GB and Jsonobject value less than 16KB\n",
    "                    \n",
    "                    if (len(self.c) < (1024*1024*1024) and sys.getsizeof(self.value) <= (16*1024)):\n",
    "                        if (self.timeout == 0):\n",
    "                            self.l = [self.value, self.timeout]\n",
    "                        else:\n",
    "                            self.l = [self.value, time.time()+self.timeout]\n",
    "                        # input key_name capped at 32chars\n",
    "                        \n",
    "                        if (len(self.key) <= 32):  \n",
    "                            self.c[self.key] = self.l\n",
    "                        else:\n",
    "                            print(\"error: Key Size must be between 32 character\")\n",
    "                    else:\n",
    "                        # error message2 limit exceeded\n",
    "                        print(\"error: Memory limit exceeded!!\")\n",
    "                else:\n",
    "                    # error message3 Invalidkey name \n",
    "                    print(\n",
    "                        \"error: Invalid key_name!! key_name must contain only alphabets and no special characters or numbers\")\n",
    "        finally:\n",
    "            self.__lock.release()\n",
    "\n",
    "    # for read operation\n",
    "    # use syntax \"read(key_name)\"\n",
    "\n",
    "    def read(self, key):\n",
    "        self.__lock.acquire()\n",
    "        try:\n",
    "            self.json = {}\n",
    "            self.key = key\n",
    "            if (self.key not in self.c):\n",
    "                # error message4\n",
    "                print(\n",
    "                    \"error: given key does not exist in database. Please enter a valid key\")\n",
    "            else:\n",
    "                self.b = self.c[key]\n",
    "                if (self.b[1] != 0):\n",
    "                    # comparing the present time with expiry time\n",
    "                    if (time.time() < self.b[1]):\n",
    "                        # to return the value in the format of JsonObject i.e.,\"key_name:value\"\n",
    "                        if(type(self.b[0]) != dict()):\n",
    "                            res = dict(self.b[0])\n",
    "\n",
    "                        return res\n",
    "                    else:\n",
    "                        print(\"error: time-to-live of\", self.key,\"has expired\")  # error message5\n",
    "                else:\n",
    "                    if(type(self.b[0]) != dict()):\n",
    "                        res = dict(self.b[0])\n",
    "\n",
    "                    return res\n",
    "        finally:\n",
    "            self.__lock.release()\n",
    "\n",
    "    # for delete operation\n",
    "    # use syntax \"delete(key_name)\"\n",
    "\n",
    "    def delete(self, key):\n",
    "        self.key = key\n",
    "        if (self.key not in self.c):\n",
    "            # error message4\n",
    "            raise \"error: given key does not exist in database. Please enter a valid key\"\n",
    "        else:\n",
    "            self.b = self.c[key]\n",
    "            if (self.b[1] != 0):\n",
    "                # comparing the current time with expiry time\n",
    "                if (time.time() < self.b[1]):\n",
    "                    del self.c[key]\n",
    "                    print(\"key is successfully deleted\")\n",
    "                else:\n",
    "                    print(\"error: time-to-live of\", self.key,\"has expired\")  # error message5\n",
    "            else:\n",
    "                del self.c[key]\n",
    "                print(\"key is successfully deleted\")\n",
    "    # it Will save the data in a logical file on path : C:/tmp/*.txt\n",
    "\n",
    "    def save(self):\n",
    "        x = json.dumps(self.c, indent=3)\n",
    "        self.f.write(x)\n",
    "        self.f.close()"
   ]
  },
  {
   "cell_type": "markdown",
   "metadata": {},
   "source": [
    "# Creating instance and keyvalue pair"
   ]
  },
  {
   "cell_type": "code",
   "execution_count": 3,
   "metadata": {},
   "outputs": [],
   "source": [
    "#creating instance for datastore class\n",
    "ds = DS()"
   ]
  },
  {
   "cell_type": "code",
   "execution_count": 4,
   "metadata": {},
   "outputs": [],
   "source": [
    "#Creating a key, value with no time to live prop\n",
    "ds.create('Employee',{'name':'Akash','emproll':1})"
   ]
  },
  {
   "cell_type": "code",
   "execution_count": 5,
   "metadata": {},
   "outputs": [],
   "source": [
    "#Creating a key, value with time to live prop of 120s\n",
    "ds.create('Employeefiftyfour',{'name':'Piyush','emproll':54},120)"
   ]
  },
  {
   "cell_type": "code",
   "execution_count": 6,
   "metadata": {},
   "outputs": [],
   "source": [
    "#Creating a key, value with time to live prop of 150s\n",
    "ds.create(\"Employeethree\",{'name':\"Chitransh\",'age':25}, 150)"
   ]
  },
  {
   "cell_type": "code",
   "execution_count": 7,
   "metadata": {},
   "outputs": [],
   "source": [
    "#Creating a key, value with time to live prop of 3600s\n",
    "ds.create(\"HR\",{'name':\"Shivani\",'age':30},3600)"
   ]
  },
  {
   "cell_type": "code",
   "execution_count": 8,
   "metadata": {},
   "outputs": [],
   "source": [
    "#Creating a key, value with no time to live prop\n",
    "ds.create(\"Boss\",{'name':\"Daksh\",'age':32})"
   ]
  },
  {
   "cell_type": "markdown",
   "metadata": {},
   "source": [
    "# Reading the employees data"
   ]
  },
  {
   "cell_type": "code",
   "execution_count": 9,
   "metadata": {},
   "outputs": [
    {
     "data": {
      "text/plain": [
       "{'name': 'Akash', 'emproll': 1}"
      ]
     },
     "execution_count": 9,
     "metadata": {},
     "output_type": "execute_result"
    }
   ],
   "source": [
    "ds.read('Employee')"
   ]
  },
  {
   "cell_type": "code",
   "execution_count": 10,
   "metadata": {},
   "outputs": [
    {
     "data": {
      "text/plain": [
       "{'name': 'Piyush', 'emproll': 54}"
      ]
     },
     "execution_count": 10,
     "metadata": {},
     "output_type": "execute_result"
    }
   ],
   "source": [
    "ds.read('Employeefiftyfour')"
   ]
  },
  {
   "cell_type": "code",
   "execution_count": 11,
   "metadata": {},
   "outputs": [
    {
     "data": {
      "text/plain": [
       "{'name': 'Shivani', 'age': 30}"
      ]
     },
     "execution_count": 11,
     "metadata": {},
     "output_type": "execute_result"
    }
   ],
   "source": [
    "ds.read('HR')"
   ]
  },
  {
   "cell_type": "code",
   "execution_count": 12,
   "metadata": {},
   "outputs": [
    {
     "data": {
      "text/plain": [
       "{'name': 'Daksh', 'age': 32}"
      ]
     },
     "execution_count": 12,
     "metadata": {},
     "output_type": "execute_result"
    }
   ],
   "source": [
    "ds.read('Boss')"
   ]
  },
  {
   "cell_type": "code",
   "execution_count": 13,
   "metadata": {},
   "outputs": [
    {
     "name": "stdout",
     "output_type": "stream",
     "text": [
      "key is successfully deleted\n"
     ]
    }
   ],
   "source": [
    "ds.delete('Employeefiftyfour')"
   ]
  },
  {
   "cell_type": "code",
   "execution_count": 14,
   "metadata": {},
   "outputs": [
    {
     "name": "stdout",
     "output_type": "stream",
     "text": [
      "error: given key does not exist in database. Please enter a valid key\n"
     ]
    }
   ],
   "source": [
    "ds.read('Employeefiftyfour')"
   ]
  },
  {
   "cell_type": "code",
   "execution_count": 15,
   "metadata": {},
   "outputs": [
    {
     "data": {
      "text/plain": [
       "{'name': 'Chitransh', 'age': 25}"
      ]
     },
     "execution_count": 15,
     "metadata": {},
     "output_type": "execute_result"
    }
   ],
   "source": [
    "ds.read('Employeethree')"
   ]
  },
  {
   "cell_type": "markdown",
   "metadata": {},
   "source": [
    "# Checking for errors"
   ]
  },
  {
   "cell_type": "code",
   "execution_count": 16,
   "metadata": {},
   "outputs": [
    {
     "name": "stdout",
     "output_type": "stream",
     "text": [
      "error: Invalid key_name!! key_name must contain only alphabets and no special characters or numbers\n"
     ]
    }
   ],
   "source": [
    "ds.create(\"Employee_123\",{'name':\"Chitransh\",'age':25}, 150)"
   ]
  },
  {
   "cell_type": "code",
   "execution_count": 17,
   "metadata": {},
   "outputs": [
    {
     "name": "stdout",
     "output_type": "stream",
     "text": [
      "error: Key Size must be between 32 character\n"
     ]
    }
   ],
   "source": [
    "ds.create('abcdsjdhfsjdhdfjdhfhdhfdhfhdfjskfhskfhsfhsdfhsnsndjfsdjkhfsdhfdfhdfsdkjfhskdfhsdhfsdkfh',{'name': 'Omprakash', 'employeeno': 50})"
   ]
  },
  {
   "cell_type": "markdown",
   "metadata": {},
   "source": [
    "### The code also returns other errors like\n",
    "1) \"invalidkey\" if key_length is greater than 32 or key_name contains any numeric,special characters etc.\n",
    "\n",
    "2) \"key doesnot exist\" if key_name was mis-spelt or deleted earlier\n",
    "\n",
    "3) \"File memory limit reached\" if file memory exceeds 1GB"
   ]
  },
  {
   "cell_type": "markdown",
   "metadata": {},
   "source": [
    "### This method will store the data in a unique file (C:/tmp/.txt)*"
   ]
  },
  {
   "cell_type": "code",
   "execution_count": 18,
   "metadata": {},
   "outputs": [],
   "source": [
    "ds.save()"
   ]
  },
  {
   "cell_type": "markdown",
   "metadata": {},
   "source": [
    "### Checking for Thread safety"
   ]
  },
  {
   "cell_type": "code",
   "execution_count": 19,
   "metadata": {},
   "outputs": [
    {
     "name": "stdout",
     "output_type": "stream",
     "text": [
      "Works Great!!!\n"
     ]
    }
   ],
   "source": [
    "t1=threading.Thread(target=(ds.create or ds.read or ds.delete),args=('employeefirst',{'name':'Vaibhav'})) #as per the operation\n",
    "t2=threading.Thread(target=(ds.create or ds.read or ds.delete),args=('employeesecond',{'employeeno':'2'})) #as per the operation\n",
    "# starting thread 1 \n",
    "t1.start() \n",
    "# starting thread 2 \n",
    "t2.start() \n",
    "# wait until thread 1 is completely executed \n",
    "t1.join() \n",
    "# wait until thread 2 is completely executed \n",
    "t2.join() \n",
    "  \n",
    "# both threads completely executed \n",
    "print(\"Works Great!!!\")"
   ]
  },
  {
   "cell_type": "code",
   "execution_count": null,
   "metadata": {},
   "outputs": [],
   "source": []
  }
 ],
 "metadata": {
  "kernelspec": {
   "display_name": "Python 3",
   "language": "python",
   "name": "python3"
  },
  "language_info": {
   "codemirror_mode": {
    "name": "ipython",
    "version": 3
   },
   "file_extension": ".py",
   "mimetype": "text/x-python",
   "name": "python",
   "nbconvert_exporter": "python",
   "pygments_lexer": "ipython3",
   "version": "3.8.5"
  }
 },
 "nbformat": 4,
 "nbformat_minor": 4
}
